{
 "cells": [
  {
   "cell_type": "code",
   "execution_count": 1,
   "metadata": {},
   "outputs": [],
   "source": [
    "import sys\n",
    "sys.path.append(\"..\")   # add the root project folder to the system path variable\n",
    "from schuberts_leader.core_components import simulate_leading_indicator_data, leading_indicator_miner\n",
    "import pandas as pd\n",
    "import numpy as np\n",
    "from matplotlib import pyplot as plt\n",
    "from pprint import pprint"
   ]
  },
  {
   "cell_type": "markdown",
   "metadata": {},
   "source": [
    "Simulate some data for us to use:\n",
    "\n",
    "( documentation is available using `help(simulate_leading_indicator_data)` )"
   ]
  },
  {
   "cell_type": "code",
   "execution_count": 5,
   "metadata": {},
   "outputs": [],
   "source": [
    "sim_explain_dict, y_arr, X_arr = simulate_leading_indicator_data(\n",
    "        n_time_points = 1_000\n",
    "    ,   n_predictors = 50\n",
    "    ,   n_leading_indicator_effects = 10\n",
    "    ,   lagged_effect_time_min_max = (1,10)\n",
    "    ,   polynomial_coefs_min_max = (\n",
    "        (-1,1),\n",
    "        (-0.01,0.01), #(-0.002,0.002),\n",
    "        (-0.0001,0.0001), #(-0.00002,0.00002),\n",
    "    )\n",
    ")\n",
    "X_varnames = [f\"X_{i}\" for i in range(X_arr.shape[1])]"
   ]
  },
  {
   "cell_type": "markdown",
   "metadata": {},
   "source": [
    "Have a look at a (random) few of the simulated leading relationships:"
   ]
  },
  {
   "cell_type": "code",
   "execution_count": null,
   "metadata": {},
   "outputs": [],
   "source": [
    "for k in np.random.choice(list(sim_explain_dict.keys()), size=5, replace=False):\n",
    "    lag_i = sim_explain_dict[k][0][\"lag\"]\n",
    "    plt.figure( figsize=(10,5) )\n",
    "    plt.scatter( X_arr[:(len(X_arr)-lag_i),k], y_arr[lag_i:] )\n",
    "    plt.xlabel( f\"x[{k}],[t]\" )\n",
    "    plt.ylabel( f\"y[t+{lag_i}]\" )"
   ]
  },
  {
   "cell_type": "markdown",
   "metadata": {},
   "source": [
    "split the data into a training and a test partition:"
   ]
  },
  {
   "cell_type": "code",
   "execution_count": 6,
   "metadata": {},
   "outputs": [],
   "source": [
    "test_percent = 0.1\n",
    "train_idx = ( 0, int((1-test_percent)*len(y_arr))-1 ) \n",
    "test_idx = (train_idx[1]+1, len(y_arr))\n",
    "train_y_arr = y_arr[train_idx[0]:train_idx[1]+1] \n",
    "test_y_arr = y_arr[test_idx[0]:test_idx[1]] \n",
    "train_X_arr = X_arr[train_idx[0]:train_idx[1]+1,:] \n",
    "test_X_arr = X_arr[test_idx[0]:test_idx[1],:]"
   ]
  },
  {
   "cell_type": "markdown",
   "metadata": {},
   "source": [
    "mine the data for training data for leading indicators:"
   ]
  },
  {
   "cell_type": "code",
   "execution_count": 7,
   "metadata": {},
   "outputs": [
    {
     "name": "stdout",
     "output_type": "stream",
     "text": [
      "iteration 1,000 of 1,000. best MSE: 20,678,292,277.408"
     ]
    }
   ],
   "source": [
    "leading_indicator_miner_model = leading_indicator_miner(n_leading_indicators=5)\n",
    "leading_indicator_miner_model.fit(\n",
    "    X = train_X_arr, \n",
    "    X_varnames = X_varnames, \n",
    "    y = train_y_arr, \n",
    "    y_varname = \"y\", \n",
    "    n_iterations = 1_000, \n",
    "    n_lags_to_consider = {'min': 1, 'max': 20}, \n",
    "    n_knots_to_consider = {'min': 10, 'max': 10}\n",
    ")"
   ]
  },
  {
   "cell_type": "code",
   "execution_count": 8,
   "metadata": {},
   "outputs": [
    {
     "data": {
      "text/plain": [
       "Text(0.5, 1.0, 'Mean Squared Error on Training Data')"
      ]
     },
     "execution_count": 8,
     "metadata": {},
     "output_type": "execute_result"
    },
    {
     "data": {
      "image/png": "[encoded data removed]",
      "text/plain": [
       "<Figure size 720x360 with 1 Axes>"
      ]
     },
     "metadata": {
      "needs_background": "light"
     },
     "output_type": "display_data"
    }
   ],
   "source": [
    "plt.figure( figsize=(10,5) )\n",
    "plt.plot( \n",
    "    [x[0] for x in leading_indicator_miner_model.mse_history],\n",
    "    [x[1] for x in leading_indicator_miner_model.mse_history],\n",
    ")\n",
    "plt.xlabel(\"Iteration Number\")\n",
    "plt.ylabel(\"Mean Squared Error\")\n",
    "plt.title(\"Mean Squared Error on Training Data\")"
   ]
  },
  {
   "cell_type": "markdown",
   "metadata": {},
   "source": [
    "visualize the leading indicators discovered:"
   ]
  },
  {
   "cell_type": "code",
   "execution_count": null,
   "metadata": {},
   "outputs": [],
   "source": [
    "for x in leading_indicator_miner_model.best_leading_indicators_vars_set:\n",
    "    lag_i = x[\"lag_n_time_periods\"]\n",
    "    #print(x)\n",
    "    #plt.figure( figsize=(10,5) )\n",
    "    #plt.scatter( train_X_arr[:(len(train_X_arr)-lag_i),x], train_y_arr[lag_i:] )\n",
    "    #plt.xlabel( f\"x[{x}],[t]\" )\n",
    "    #plt.ylabel( f\"y[t+{lag_i}]\" )"
   ]
  },
  {
   "cell_type": "code",
   "execution_count": 10,
   "metadata": {},
   "outputs": [
    {
     "data": {
      "text/plain": [
       "array([[-9583179.03606181, -9758130.5319591 , -9355666.55174823,\n",
       "        -9136664.46099442,               nan,               nan,\n",
       "                      nan,               nan,               nan,\n",
       "                      nan,               nan,               nan,\n",
       "                      nan,               nan,               nan],\n",
       "       [-8823419.64593712, -8931978.26332234,               nan,\n",
       "                      nan,               nan,               nan,\n",
       "                      nan,               nan,               nan,\n",
       "                      nan,               nan,               nan,\n",
       "                      nan,               nan,               nan],\n",
       "       [-7734412.40782222, -7634901.68848797, -7567972.04426185,\n",
       "        -7701233.97572594, -7727801.65954048, -7632905.71577297,\n",
       "        -7684233.54410851,               nan,               nan,\n",
       "                      nan,               nan,               nan,\n",
       "                      nan,               nan,               nan],\n",
       "       [-8572224.77547713, -8573519.29974921, -8539437.94041503,\n",
       "        -8553295.66535377, -8567418.77146051, -8521380.71141223,\n",
       "        -8328737.65730282, -8401248.9841277 , -8372678.88373309,\n",
       "        -8137741.86116528, -7823960.47289494, -7994366.31599762,\n",
       "        -8311734.07784466, -7969545.17536994, -7684368.49065655],\n",
       "       [-8643425.43120219, -8615620.91627754, -8429379.87008564,\n",
       "        -8298298.871937  , -8218748.80719347, -8431630.69556045,\n",
       "        -8102732.52661747,               nan,               nan,\n",
       "                      nan,               nan,               nan,\n",
       "                      nan,               nan,               nan]])"
      ]
     },
     "execution_count": 10,
     "metadata": {},
     "output_type": "execute_result"
    }
   ],
   "source": [
    "test_forecasts = leading_indicator_miner_model.predict(\n",
    "    X = train_X_arr, \n",
    "    X_varnames = X_varnames\n",
    ")\n",
    "test_forecasts"
   ]
  },
  {
   "cell_type": "markdown",
   "metadata": {},
   "source": [
    "# Random experiment with EWMA"
   ]
  },
  {
   "cell_type": "code",
   "execution_count": null,
   "metadata": {},
   "outputs": [],
   "source": [
    "sim_n = 100\n",
    "x_vec = np.random.uniform(low=-100, high=100, size=sim_n).cumsum()\n",
    "y_vec = np.random.uniform(low=-100, high=100, size=sim_n).cumsum()\n",
    "effect_lag = 3\n",
    "a, b = -0.7, -0.05\n",
    "y_vec += np.concatenate(\n",
    "    [   np.zeros(effect_lag),\n",
    "        a*(x_vec[:(len(x_vec)-effect_lag)]) + b*(x_vec[:(len(x_vec)-effect_lag)]**2)\n",
    "    ]\n",
    ")\n",
    "for lag_l in range(1,5):\n",
    "    plt.figure( figsize=(10,5) )\n",
    "    plt.scatter(\n",
    "            x_vec[:(len(x_vec)-lag_l)]\n",
    "        ,   y_vec[lag_l:]\n",
    "    )\n",
    "    plt.xlabel(f\"X[t]\")\n",
    "    plt.ylabel(f\"Y[t+{lag_l}]\")\n",
    "\n",
    "def simple_exp_wt_mov_avg_np_arr_1D(np_arr, alpha):\n",
    "    \"\"\"\n",
    "    calculates an exponentially weighted moving average version of a provided 1-Dimensional numpy array\n",
    "    this implementation is designed for clarity rather than code optimality\n",
    "\n",
    "    An exponentially weighted moving average of univariate time series variable X is defined as:\n",
    "        ewma[t] = alpha*X[t] + (1-alpha)*ewma[t-1]\n",
    "\n",
    "    Parameters\n",
    "    ----------\n",
    "    np_arr : np.array(), float\n",
    "        a 1-Dimensional numpy array of float type\n",
    "    alpha : float\n",
    "        decay parameter - must be in the range (0,1)\n",
    "\n",
    "    Returns\n",
    "    ----------\n",
    "    np.array(), float\n",
    "        a 1-Dimensional numpy array of the same dimension as the input array [np_arr], containing the exponentially-weighted moving average\n",
    "    \"\"\"\n",
    "    import numpy as np\n",
    "\n",
    "    assert (\n",
    "        len(np_arr.shape) == 1\n",
    "    ), \"np_arr must be 1-Dimensional (i.e. len(np_arr.shape)==1\"\n",
    "    assert alpha > 0 and alpha < 1, \"must have 0 < alpha < 1\"\n",
    "\n",
    "    ewma_list = [np_arr[0]]\n",
    "    for i in range(1, len(np_arr)):\n",
    "        ewma_list.append(alpha * np_arr[i] + (1 - alpha) * ewma_list[-1])\n",
    "\n",
    "    return np.array(ewma_list)\n",
    "\n",
    "x_vec_ewma = simple_exp_wt_mov_avg_np_arr_1D(x_vec, alpha=0.5)\n",
    "for lag_l in range(1,9):\n",
    "    plt.figure( figsize=(10,5) )\n",
    "    plt.scatter(\n",
    "            x_vec_ewma[:(len(x_vec_ewma)-lag_l)]\n",
    "        ,   y_vec[lag_l:]\n",
    "    )\n",
    "    plt.title(\"EWMA[0.5]\")\n",
    "    plt.xlabel(f\"X[t]\")\n",
    "    plt.ylabel(f\"Y[t+{lag_l}]\")\n",
    "\n",
    "plt.figure( figsize=(10,5) )\n",
    "plt.plot(x_vec, label=\"x\")\n",
    "plt.plot(x_vec_ewma, label=\"x_ewma\")\n",
    "plt.legend()\n"
   ]
  }
 ],
 "metadata": {
  "kernelspec": {
   "display_name": "Python 3.10.4 64-bit",
   "language": "python",
   "name": "python3"
  },
  "language_info": {
   "codemirror_mode": {
    "name": "ipython",
    "version": 3
   },
   "file_extension": ".py",
   "mimetype": "text/x-python",
   "name": "python",
   "nbconvert_exporter": "python",
   "pygments_lexer": "ipython3",
   "version": "3.10.4"
  },
  "orig_nbformat": 4,
  "vscode": {
   "interpreter": {
    "hash": "369f2c481f4da34e4445cda3fffd2e751bd1c4d706f27375911949ba6bb62e1c"
   }
  }
 },
 "nbformat": 4,
 "nbformat_minor": 2
}
